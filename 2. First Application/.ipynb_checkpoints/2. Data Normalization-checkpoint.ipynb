{
 "cells": [
  {
   "cell_type": "code",
   "execution_count": 41,
   "metadata": {},
   "outputs": [],
   "source": [
    "import numpy as np\n",
    "import torch\n",
    "import torch.nn as nn\n",
    "import pandas as pd\n",
    "from sklearn.preprocessing import StandardScaler\n",
    "from torch.utils.data import Dataset\n",
    "from torch.utils.data import DataLoader"
   ]
  },
  {
   "cell_type": "code",
   "execution_count": 42,
   "metadata": {},
   "outputs": [],
   "source": [
    "data = pd.read_csv(\"../src/diabetes.csv\")"
   ]
  },
  {
   "cell_type": "code",
   "execution_count": 43,
   "metadata": {},
   "outputs": [],
   "source": [
    "X = data.iloc[:,:-1].values\n",
    "y_str = data.iloc[:,-1].values"
   ]
  },
  {
   "cell_type": "code",
   "execution_count": 44,
   "metadata": {},
   "outputs": [],
   "source": [
    "y = []\n",
    "for s in y_str:\n",
    "    if s == \"positive\":\n",
    "        y.append(1)\n",
    "    else:\n",
    "        y.append(0)"
   ]
  },
  {
   "cell_type": "code",
   "execution_count": 45,
   "metadata": {},
   "outputs": [
    {
     "data": {
      "text/plain": [
       "array([[  6. , 148. ,  72. , ...,   0. ,  33.6,  50. ],\n",
       "       [  1. ,  85. ,  66. , ...,   0. ,  26.6,  31. ],\n",
       "       [  8. , 183. ,  64. , ...,   0. ,  23.3,  32. ],\n",
       "       ...,\n",
       "       [  5. , 121. ,  72. , ..., 112. ,  26.2,  30. ],\n",
       "       [  1. , 126. ,  60. , ...,   0. ,  30.1,  47. ],\n",
       "       [  1. ,  93. ,  70. , ...,   0. ,  30.4,  23. ]])"
      ]
     },
     "execution_count": 45,
     "metadata": {},
     "output_type": "execute_result"
    }
   ],
   "source": [
    "X"
   ]
  },
  {
   "cell_type": "markdown",
   "metadata": {},
   "source": [
    "Feature Normalization. All features will have standard distribution"
   ]
  },
  {
   "cell_type": "code",
   "execution_count": 46,
   "metadata": {},
   "outputs": [],
   "source": [
    "sc = StandardScaler()\n",
    "X = sc.fit_transform(X) # Standard Scale Normalization"
   ]
  },
  {
   "cell_type": "code",
   "execution_count": 47,
   "metadata": {},
   "outputs": [
    {
     "data": {
      "text/plain": [
       "array([[ 0.63994726,  0.84832379,  0.14964075, ..., -0.69289057,\n",
       "         0.20401277,  1.4259954 ],\n",
       "       [-0.84488505, -1.12339636, -0.16054575, ..., -0.69289057,\n",
       "        -0.68442195, -0.19067191],\n",
       "       [ 1.23388019,  1.94372388, -0.26394125, ..., -0.69289057,\n",
       "        -1.10325546, -0.10558415],\n",
       "       ...,\n",
       "       [ 0.3429808 ,  0.00330087,  0.14964075, ...,  0.27959377,\n",
       "        -0.73518964, -0.27575966],\n",
       "       [-0.84488505,  0.1597866 , -0.47073225, ..., -0.69289057,\n",
       "        -0.24020459,  1.17073215],\n",
       "       [-0.84488505, -0.8730192 ,  0.04624525, ..., -0.69289057,\n",
       "        -0.20212881, -0.87137393]])"
      ]
     },
     "execution_count": 47,
     "metadata": {},
     "output_type": "execute_result"
    }
   ],
   "source": [
    "X"
   ]
  },
  {
   "cell_type": "code",
   "execution_count": 48,
   "metadata": {},
   "outputs": [],
   "source": [
    "# Now we convert the arrays to PyTorch tensors\n",
    "X = torch.tensor(X)\n",
    "y = torch.tensor(y)"
   ]
  },
  {
   "cell_type": "code",
   "execution_count": 49,
   "metadata": {},
   "outputs": [
    {
     "data": {
      "text/plain": [
       "torch.Size([768, 7])"
      ]
     },
     "execution_count": 49,
     "metadata": {},
     "output_type": "execute_result"
    }
   ],
   "source": [
    "X.shape"
   ]
  },
  {
   "cell_type": "code",
   "execution_count": 50,
   "metadata": {},
   "outputs": [
    {
     "data": {
      "text/plain": [
       "torch.Size([768])"
      ]
     },
     "execution_count": 50,
     "metadata": {},
     "output_type": "execute_result"
    }
   ],
   "source": [
    "y.shape"
   ]
  },
  {
   "cell_type": "markdown",
   "metadata": {},
   "source": [
    "Currently the problem is they are different dimensionally. So we need to add another dimension by using **unsqueeze()**"
   ]
  },
  {
   "cell_type": "code",
   "execution_count": 51,
   "metadata": {},
   "outputs": [],
   "source": [
    "y = y.unsqueeze(1)"
   ]
  },
  {
   "cell_type": "code",
   "execution_count": 52,
   "metadata": {},
   "outputs": [
    {
     "data": {
      "text/plain": [
       "torch.Size([768, 1])"
      ]
     },
     "execution_count": 52,
     "metadata": {},
     "output_type": "execute_result"
    }
   ],
   "source": [
    "y.shape"
   ]
  },
  {
   "cell_type": "markdown",
   "metadata": {},
   "source": [
    "We will build our own Dataset class"
   ]
  },
  {
   "cell_type": "code",
   "execution_count": 53,
   "metadata": {},
   "outputs": [],
   "source": [
    "class Dataset(Dataset):\n",
    "    \n",
    "    def __init__(self, x, y):\n",
    "        self.x = x\n",
    "        self.y = y\n",
    "        \n",
    "    def __getitem__(self, index):\n",
    "        return self.x[index], self.y[index]\n",
    "    \n",
    "    def __len__(self):\n",
    "        return len(self.x)"
   ]
  },
  {
   "cell_type": "code",
   "execution_count": 54,
   "metadata": {},
   "outputs": [],
   "source": [
    "dataset = Dataset(X,y)"
   ]
  },
  {
   "cell_type": "code",
   "execution_count": 55,
   "metadata": {},
   "outputs": [
    {
     "data": {
      "text/plain": [
       "768"
      ]
     },
     "execution_count": 55,
     "metadata": {},
     "output_type": "execute_result"
    }
   ],
   "source": [
    "len(dataset)"
   ]
  },
  {
   "cell_type": "markdown",
   "metadata": {},
   "source": [
    "Load the data to your DataLoader for batch processing and shuffling"
   ]
  },
  {
   "cell_type": "code",
   "execution_count": 56,
   "metadata": {},
   "outputs": [],
   "source": [
    "train_loader = DataLoader(dataset=dataset,\n",
    "          batch_size=32,\n",
    "          shuffle=True)"
   ]
  },
  {
   "cell_type": "code",
   "execution_count": 57,
   "metadata": {},
   "outputs": [
    {
     "data": {
      "text/plain": [
       "<torch.utils.data.dataloader.DataLoader at 0x247139f3248>"
      ]
     },
     "execution_count": 57,
     "metadata": {},
     "output_type": "execute_result"
    }
   ],
   "source": [
    "train_loader"
   ]
  },
  {
   "cell_type": "markdown",
   "metadata": {},
   "source": [
    "Let us look at the data loader"
   ]
  },
  {
   "cell_type": "code",
   "execution_count": 58,
   "metadata": {},
   "outputs": [
    {
     "name": "stdout",
     "output_type": "stream",
     "text": [
      "There is 24 batches in the dataset\n"
     ]
    }
   ],
   "source": [
    "print(\"There is {} batches in the dataset\".format(len(train_loader)))"
   ]
  },
  {
   "cell_type": "code",
   "execution_count": 60,
   "metadata": {},
   "outputs": [
    {
     "name": "stdout",
     "output_type": "stream",
     "text": [
      "For one iteration (batch), there is : \n",
      "Data   :    torch.Size([32, 7])\n",
      "Labels :    torch.Size([32, 1])\n"
     ]
    }
   ],
   "source": [
    "for (x,y) in train_loader:\n",
    "    print(\"For one iteration (batch), there is : \")\n",
    "    print(\"Data   :    {}\".format(x.shape))\n",
    "    print(\"Labels :    {}\".format(y.shape))\n",
    "    break"
   ]
  },
  {
   "cell_type": "markdown",
   "metadata": {},
   "source": [
    "# Building the Network\n",
    "<img src=\"../img/Neural Network Image.png\"/>"
   ]
  },
  {
   "cell_type": "markdown",
   "metadata": {},
   "source": [
    "We will build the above model<br>\n",
    "We will build fully connected layer (Linear Layer/ Multi-layer perceptron)\n",
    "\n",
    "**nn.Linear(no_of_input, no_of_output)**"
   ]
  },
  {
   "cell_type": "code",
   "execution_count": 64,
   "metadata": {},
   "outputs": [],
   "source": [
    "class Model(nn.Module): # Class Inheritance\n",
    "    def __init__(self, no_of_input_features, no_of_output_features):\n",
    "        # We want to take all of the features of the Module class\n",
    "        super(Model, self).__init__()\n",
    "        # our attributes = Layers\n",
    "        # our functionalities = Forward Propagation\n",
    "        self.fc1 = nn.Linear(no_of_input_features, 5) # FC (Fully Connected Layer)\n",
    "        self.fc2 = nn.Linear(5,4)\n",
    "        self.fc3 = nn.Linear(4,3)\n",
    "        self.fc4 = nn.Linear(3,no_of_output_features)\n",
    "        # Define activation Function\n",
    "        self.sigmoid = nn.Sigmoid()\n",
    "        self.tanh = nn.Tanh()\n",
    "        \n",
    "    def forward(self, x):\n",
    "        out = self.fc1(x)\n",
    "        out = self.tanh(out)\n",
    "        out = self.fc2(out)\n",
    "        out = self.tanh(out)\n",
    "        out = self.fc3(out)\n",
    "        out = self.tanh(out)\n",
    "        out = self.fc4(out)\n",
    "        out = self.sigmoid(out)\n",
    "        return out"
   ]
  },
  {
   "cell_type": "markdown",
   "metadata": {},
   "source": [
    "<img src=\"../img/equation.svg\" style=\"float:left\"/>"
   ]
  },
  {
   "cell_type": "markdown",
   "metadata": {},
   "source": [
    "cost = -(Y torch.log(hypothesis) + (1 - Y) torch.log(1 - hypothesis)).mean()"
   ]
  },
  {
   "cell_type": "markdown",
   "metadata": {},
   "source": [
    "Creating a network (An object of Net class)"
   ]
  },
  {
   "cell_type": "code",
   "execution_count": 65,
   "metadata": {},
   "outputs": [],
   "source": [
    "net = Model(7,1)"
   ]
  },
  {
   "cell_type": "markdown",
   "metadata": {},
   "source": [
    "In Binary Cross Entropy, the input and output should have the same shape"
   ]
  },
  {
   "cell_type": "markdown",
   "metadata": {},
   "source": [
    "`size_average=True` The losses are averaged over observation for minibatch"
   ]
  },
  {
   "cell_type": "code",
   "execution_count": 68,
   "metadata": {},
   "outputs": [],
   "source": [
    "criterion = torch.nn.BCELoss(reduction='mean')"
   ]
  },
  {
   "cell_type": "markdown",
   "metadata": {},
   "source": [
    "We will use SGD with momentum with a learning rate of 0.1<br>\n",
    "torch.optim. provides bunch of optimezers<br><br>\n",
    "**SGD()**<br><br>\n",
    "Accessing the weights<br>\n",
    "**net.parameters()**"
   ]
  },
  {
   "cell_type": "code",
   "execution_count": 69,
   "metadata": {},
   "outputs": [],
   "source": [
    "optimizer = torch.optim.SGD(net.parameters(), lr=0.1, momentum = 0.9)"
   ]
  },
  {
   "cell_type": "markdown",
   "metadata": {},
   "source": [
    "## Trainning the network"
   ]
  },
  {
   "cell_type": "code",
   "execution_count": 72,
   "metadata": {},
   "outputs": [
    {
     "name": "stdout",
     "output_type": "stream",
     "text": [
      "Epoch 1/200, Loss : 0.518, Accuracy: 0.719\n",
      "Epoch 2/200, Loss : 0.329, Accuracy: 0.875\n",
      "Epoch 3/200, Loss : 0.630, Accuracy: 0.688\n",
      "Epoch 4/200, Loss : 0.441, Accuracy: 0.719\n",
      "Epoch 5/200, Loss : 0.568, Accuracy: 0.750\n",
      "Epoch 6/200, Loss : 0.579, Accuracy: 0.688\n",
      "Epoch 7/200, Loss : 0.458, Accuracy: 0.781\n",
      "Epoch 8/200, Loss : 0.474, Accuracy: 0.781\n",
      "Epoch 9/200, Loss : 0.403, Accuracy: 0.844\n",
      "Epoch 10/200, Loss : 0.620, Accuracy: 0.625\n",
      "Epoch 11/200, Loss : 0.437, Accuracy: 0.781\n",
      "Epoch 12/200, Loss : 0.533, Accuracy: 0.750\n",
      "Epoch 13/200, Loss : 0.513, Accuracy: 0.781\n",
      "Epoch 14/200, Loss : 0.556, Accuracy: 0.688\n",
      "Epoch 15/200, Loss : 0.358, Accuracy: 0.875\n",
      "Epoch 16/200, Loss : 0.300, Accuracy: 0.906\n",
      "Epoch 17/200, Loss : 0.486, Accuracy: 0.781\n",
      "Epoch 18/200, Loss : 0.436, Accuracy: 0.781\n",
      "Epoch 19/200, Loss : 0.436, Accuracy: 0.844\n",
      "Epoch 20/200, Loss : 0.382, Accuracy: 0.844\n",
      "Epoch 21/200, Loss : 0.404, Accuracy: 0.781\n",
      "Epoch 22/200, Loss : 0.658, Accuracy: 0.688\n",
      "Epoch 23/200, Loss : 0.503, Accuracy: 0.812\n",
      "Epoch 24/200, Loss : 0.556, Accuracy: 0.625\n",
      "Epoch 25/200, Loss : 0.478, Accuracy: 0.688\n",
      "Epoch 26/200, Loss : 0.432, Accuracy: 0.750\n",
      "Epoch 27/200, Loss : 0.419, Accuracy: 0.844\n",
      "Epoch 28/200, Loss : 0.345, Accuracy: 0.938\n",
      "Epoch 29/200, Loss : 0.632, Accuracy: 0.625\n",
      "Epoch 30/200, Loss : 0.583, Accuracy: 0.688\n",
      "Epoch 31/200, Loss : 0.484, Accuracy: 0.812\n",
      "Epoch 32/200, Loss : 0.485, Accuracy: 0.719\n",
      "Epoch 33/200, Loss : 0.391, Accuracy: 0.812\n",
      "Epoch 34/200, Loss : 0.467, Accuracy: 0.750\n",
      "Epoch 35/200, Loss : 0.504, Accuracy: 0.750\n",
      "Epoch 36/200, Loss : 0.591, Accuracy: 0.688\n",
      "Epoch 37/200, Loss : 0.558, Accuracy: 0.750\n",
      "Epoch 38/200, Loss : 0.656, Accuracy: 0.656\n",
      "Epoch 39/200, Loss : 0.406, Accuracy: 0.750\n",
      "Epoch 40/200, Loss : 0.362, Accuracy: 0.781\n",
      "Epoch 41/200, Loss : 0.565, Accuracy: 0.594\n",
      "Epoch 42/200, Loss : 0.477, Accuracy: 0.812\n",
      "Epoch 43/200, Loss : 0.500, Accuracy: 0.719\n",
      "Epoch 44/200, Loss : 0.459, Accuracy: 0.781\n",
      "Epoch 45/200, Loss : 0.415, Accuracy: 0.750\n",
      "Epoch 46/200, Loss : 0.544, Accuracy: 0.750\n",
      "Epoch 47/200, Loss : 0.429, Accuracy: 0.844\n",
      "Epoch 48/200, Loss : 0.424, Accuracy: 0.750\n",
      "Epoch 49/200, Loss : 0.552, Accuracy: 0.688\n",
      "Epoch 50/200, Loss : 0.401, Accuracy: 0.781\n",
      "Epoch 51/200, Loss : 0.425, Accuracy: 0.781\n",
      "Epoch 52/200, Loss : 0.463, Accuracy: 0.781\n",
      "Epoch 53/200, Loss : 0.392, Accuracy: 0.781\n",
      "Epoch 54/200, Loss : 0.302, Accuracy: 0.875\n",
      "Epoch 55/200, Loss : 0.661, Accuracy: 0.656\n",
      "Epoch 56/200, Loss : 0.370, Accuracy: 0.719\n",
      "Epoch 57/200, Loss : 0.514, Accuracy: 0.719\n",
      "Epoch 58/200, Loss : 0.484, Accuracy: 0.750\n",
      "Epoch 59/200, Loss : 0.440, Accuracy: 0.812\n",
      "Epoch 60/200, Loss : 0.462, Accuracy: 0.719\n",
      "Epoch 61/200, Loss : 0.371, Accuracy: 0.812\n",
      "Epoch 62/200, Loss : 0.526, Accuracy: 0.719\n",
      "Epoch 63/200, Loss : 0.365, Accuracy: 0.844\n",
      "Epoch 64/200, Loss : 0.279, Accuracy: 0.812\n",
      "Epoch 65/200, Loss : 0.405, Accuracy: 0.844\n",
      "Epoch 66/200, Loss : 0.297, Accuracy: 0.875\n",
      "Epoch 67/200, Loss : 0.404, Accuracy: 0.812\n",
      "Epoch 68/200, Loss : 0.281, Accuracy: 0.812\n",
      "Epoch 69/200, Loss : 0.350, Accuracy: 0.781\n",
      "Epoch 70/200, Loss : 0.265, Accuracy: 0.875\n",
      "Epoch 71/200, Loss : 0.346, Accuracy: 0.812\n",
      "Epoch 72/200, Loss : 0.319, Accuracy: 0.938\n",
      "Epoch 73/200, Loss : 0.418, Accuracy: 0.812\n",
      "Epoch 74/200, Loss : 0.321, Accuracy: 0.875\n",
      "Epoch 75/200, Loss : 0.561, Accuracy: 0.781\n",
      "Epoch 76/200, Loss : 0.475, Accuracy: 0.781\n",
      "Epoch 77/200, Loss : 0.372, Accuracy: 0.781\n",
      "Epoch 78/200, Loss : 0.600, Accuracy: 0.719\n",
      "Epoch 79/200, Loss : 0.384, Accuracy: 0.781\n",
      "Epoch 80/200, Loss : 0.393, Accuracy: 0.844\n",
      "Epoch 81/200, Loss : 0.226, Accuracy: 0.938\n",
      "Epoch 82/200, Loss : 0.521, Accuracy: 0.812\n",
      "Epoch 83/200, Loss : 0.391, Accuracy: 0.875\n",
      "Epoch 84/200, Loss : 0.471, Accuracy: 0.812\n",
      "Epoch 85/200, Loss : 0.544, Accuracy: 0.688\n",
      "Epoch 86/200, Loss : 0.360, Accuracy: 0.875\n",
      "Epoch 87/200, Loss : 0.461, Accuracy: 0.781\n",
      "Epoch 88/200, Loss : 0.643, Accuracy: 0.625\n",
      "Epoch 89/200, Loss : 0.297, Accuracy: 0.844\n",
      "Epoch 90/200, Loss : 0.283, Accuracy: 0.875\n",
      "Epoch 91/200, Loss : 0.581, Accuracy: 0.656\n",
      "Epoch 92/200, Loss : 0.382, Accuracy: 0.812\n",
      "Epoch 93/200, Loss : 0.242, Accuracy: 0.938\n",
      "Epoch 94/200, Loss : 0.276, Accuracy: 0.812\n",
      "Epoch 95/200, Loss : 0.496, Accuracy: 0.750\n",
      "Epoch 96/200, Loss : 0.396, Accuracy: 0.781\n",
      "Epoch 97/200, Loss : 0.452, Accuracy: 0.781\n",
      "Epoch 98/200, Loss : 0.450, Accuracy: 0.750\n",
      "Epoch 99/200, Loss : 0.484, Accuracy: 0.688\n",
      "Epoch 100/200, Loss : 0.339, Accuracy: 0.844\n",
      "Epoch 101/200, Loss : 0.479, Accuracy: 0.750\n",
      "Epoch 102/200, Loss : 0.364, Accuracy: 0.844\n",
      "Epoch 103/200, Loss : 0.598, Accuracy: 0.719\n",
      "Epoch 104/200, Loss : 0.420, Accuracy: 0.812\n",
      "Epoch 105/200, Loss : 0.319, Accuracy: 0.875\n",
      "Epoch 106/200, Loss : 0.563, Accuracy: 0.750\n",
      "Epoch 107/200, Loss : 0.560, Accuracy: 0.719\n",
      "Epoch 108/200, Loss : 0.607, Accuracy: 0.656\n",
      "Epoch 109/200, Loss : 0.507, Accuracy: 0.750\n",
      "Epoch 110/200, Loss : 0.392, Accuracy: 0.875\n",
      "Epoch 111/200, Loss : 0.483, Accuracy: 0.875\n",
      "Epoch 112/200, Loss : 0.410, Accuracy: 0.812\n",
      "Epoch 113/200, Loss : 0.353, Accuracy: 0.875\n",
      "Epoch 114/200, Loss : 0.340, Accuracy: 0.844\n",
      "Epoch 115/200, Loss : 0.602, Accuracy: 0.750\n",
      "Epoch 116/200, Loss : 0.510, Accuracy: 0.781\n",
      "Epoch 117/200, Loss : 0.417, Accuracy: 0.812\n",
      "Epoch 118/200, Loss : 0.533, Accuracy: 0.719\n",
      "Epoch 119/200, Loss : 0.373, Accuracy: 0.781\n",
      "Epoch 120/200, Loss : 0.471, Accuracy: 0.781\n",
      "Epoch 121/200, Loss : 0.519, Accuracy: 0.844\n",
      "Epoch 122/200, Loss : 0.502, Accuracy: 0.750\n",
      "Epoch 123/200, Loss : 0.474, Accuracy: 0.719\n",
      "Epoch 124/200, Loss : 0.530, Accuracy: 0.781\n",
      "Epoch 125/200, Loss : 0.553, Accuracy: 0.719\n",
      "Epoch 126/200, Loss : 0.365, Accuracy: 0.875\n",
      "Epoch 127/200, Loss : 0.421, Accuracy: 0.844\n",
      "Epoch 128/200, Loss : 0.461, Accuracy: 0.812\n",
      "Epoch 129/200, Loss : 0.534, Accuracy: 0.656\n",
      "Epoch 130/200, Loss : 0.260, Accuracy: 0.844\n",
      "Epoch 131/200, Loss : 0.492, Accuracy: 0.750\n",
      "Epoch 132/200, Loss : 0.548, Accuracy: 0.812\n",
      "Epoch 133/200, Loss : 0.247, Accuracy: 0.906\n",
      "Epoch 134/200, Loss : 0.316, Accuracy: 0.812\n",
      "Epoch 135/200, Loss : 0.483, Accuracy: 0.719\n",
      "Epoch 136/200, Loss : 0.706, Accuracy: 0.656\n",
      "Epoch 137/200, Loss : 0.424, Accuracy: 0.844\n",
      "Epoch 138/200, Loss : 0.430, Accuracy: 0.812\n",
      "Epoch 139/200, Loss : 0.298, Accuracy: 0.875\n",
      "Epoch 140/200, Loss : 0.651, Accuracy: 0.688\n",
      "Epoch 141/200, Loss : 0.349, Accuracy: 0.750\n",
      "Epoch 142/200, Loss : 0.368, Accuracy: 0.812\n",
      "Epoch 143/200, Loss : 0.309, Accuracy: 0.812\n",
      "Epoch 144/200, Loss : 0.384, Accuracy: 0.875\n",
      "Epoch 145/200, Loss : 0.303, Accuracy: 0.844\n",
      "Epoch 146/200, Loss : 0.483, Accuracy: 0.750\n",
      "Epoch 147/200, Loss : 0.388, Accuracy: 0.781\n",
      "Epoch 148/200, Loss : 0.609, Accuracy: 0.719\n",
      "Epoch 149/200, Loss : 0.505, Accuracy: 0.750\n",
      "Epoch 150/200, Loss : 0.471, Accuracy: 0.812\n",
      "Epoch 151/200, Loss : 0.422, Accuracy: 0.781\n",
      "Epoch 152/200, Loss : 0.285, Accuracy: 0.906\n",
      "Epoch 153/200, Loss : 0.381, Accuracy: 0.781\n",
      "Epoch 154/200, Loss : 0.233, Accuracy: 0.938\n",
      "Epoch 155/200, Loss : 0.490, Accuracy: 0.781\n",
      "Epoch 156/200, Loss : 0.631, Accuracy: 0.656\n",
      "Epoch 157/200, Loss : 0.460, Accuracy: 0.812\n",
      "Epoch 158/200, Loss : 0.714, Accuracy: 0.688\n",
      "Epoch 159/200, Loss : 0.285, Accuracy: 0.875\n",
      "Epoch 160/200, Loss : 0.431, Accuracy: 0.781\n",
      "Epoch 161/200, Loss : 0.480, Accuracy: 0.781\n",
      "Epoch 162/200, Loss : 0.446, Accuracy: 0.688\n",
      "Epoch 163/200, Loss : 0.253, Accuracy: 0.875\n",
      "Epoch 164/200, Loss : 0.493, Accuracy: 0.781\n",
      "Epoch 165/200, Loss : 0.309, Accuracy: 0.844\n",
      "Epoch 166/200, Loss : 0.455, Accuracy: 0.750\n",
      "Epoch 167/200, Loss : 0.417, Accuracy: 0.750\n",
      "Epoch 168/200, Loss : 0.396, Accuracy: 0.750\n",
      "Epoch 169/200, Loss : 0.451, Accuracy: 0.781\n",
      "Epoch 170/200, Loss : 0.594, Accuracy: 0.719\n",
      "Epoch 171/200, Loss : 0.321, Accuracy: 0.844\n",
      "Epoch 172/200, Loss : 0.467, Accuracy: 0.781\n",
      "Epoch 173/200, Loss : 0.511, Accuracy: 0.750\n",
      "Epoch 174/200, Loss : 0.407, Accuracy: 0.750\n",
      "Epoch 175/200, Loss : 0.252, Accuracy: 0.938\n",
      "Epoch 176/200, Loss : 0.330, Accuracy: 0.875\n",
      "Epoch 177/200, Loss : 0.233, Accuracy: 0.906\n",
      "Epoch 178/200, Loss : 0.480, Accuracy: 0.750\n",
      "Epoch 179/200, Loss : 0.387, Accuracy: 0.844\n",
      "Epoch 180/200, Loss : 0.393, Accuracy: 0.781\n",
      "Epoch 181/200, Loss : 0.269, Accuracy: 0.906\n",
      "Epoch 182/200, Loss : 0.319, Accuracy: 0.844\n",
      "Epoch 183/200, Loss : 0.315, Accuracy: 0.812\n",
      "Epoch 184/200, Loss : 0.454, Accuracy: 0.750\n"
     ]
    },
    {
     "name": "stdout",
     "output_type": "stream",
     "text": [
      "Epoch 185/200, Loss : 0.433, Accuracy: 0.750\n",
      "Epoch 186/200, Loss : 0.321, Accuracy: 0.875\n",
      "Epoch 187/200, Loss : 0.407, Accuracy: 0.812\n",
      "Epoch 188/200, Loss : 0.395, Accuracy: 0.812\n",
      "Epoch 189/200, Loss : 0.330, Accuracy: 0.844\n",
      "Epoch 190/200, Loss : 0.418, Accuracy: 0.844\n",
      "Epoch 191/200, Loss : 0.449, Accuracy: 0.750\n",
      "Epoch 192/200, Loss : 0.248, Accuracy: 0.875\n",
      "Epoch 193/200, Loss : 0.345, Accuracy: 0.812\n",
      "Epoch 194/200, Loss : 0.253, Accuracy: 0.906\n",
      "Epoch 195/200, Loss : 0.653, Accuracy: 0.625\n",
      "Epoch 196/200, Loss : 0.302, Accuracy: 0.875\n",
      "Epoch 197/200, Loss : 0.401, Accuracy: 0.812\n",
      "Epoch 198/200, Loss : 0.353, Accuracy: 0.812\n",
      "Epoch 199/200, Loss : 0.695, Accuracy: 0.656\n",
      "Epoch 200/200, Loss : 0.449, Accuracy: 0.781\n"
     ]
    }
   ],
   "source": [
    "epochs = 200\n",
    "for epoch in range(epochs):\n",
    "    for inputs,labels in train_loader:\n",
    "        inputs = inputs.float()\n",
    "        labels = labels.float()\n",
    "        # Feeding our data to the neural network (Forward Propagation)\n",
    "        outputs = net(inputs) # Pytorch will automatically feed to forward function\n",
    "        # So we could also just use net.forward().\n",
    "        \n",
    "        # Calculate loss\n",
    "        loss = criterion(outputs, labels)\n",
    "        \n",
    "        # Begin forward propagation (3 Steps)\n",
    "        # 1. Clear the gradient Buffer \n",
    "        optimizer.zero_grad()\n",
    "        # 2. Calculate all the gradient (back propagation)\n",
    "        loss.backward()\n",
    "        # 3. Update Weights ( w <-- w - lr*gradient)\n",
    "        optimizer.step()\n",
    "        \n",
    "    # After this is done, we want to calculate the training accuracy\n",
    "    # Accuracy Calculation\n",
    "    output = (outputs > 0.5).float() # returns [1.,0.,0.,1.,...]\n",
    "    accuracy = (output == labels).float().mean() # Check if they are equal and returns 1 if equal, 0 not equal\n",
    "    # Another way of calculating is \n",
    "    #   (output == labels).sum() / output.shape[0]\n",
    "    \n",
    "    # Print Statistics\n",
    "    print(\"Epoch {}/{}, Loss : {:.3f}, Accuracy: {:.3f}\".format(epoch+1, epochs, loss, accuracy))"
   ]
  },
  {
   "cell_type": "code",
   "execution_count": null,
   "metadata": {},
   "outputs": [],
   "source": []
  }
 ],
 "metadata": {
  "kernelspec": {
   "display_name": "Python 3",
   "language": "python",
   "name": "python3"
  },
  "language_info": {
   "codemirror_mode": {
    "name": "ipython",
    "version": 3
   },
   "file_extension": ".py",
   "mimetype": "text/x-python",
   "name": "python",
   "nbconvert_exporter": "python",
   "pygments_lexer": "ipython3",
   "version": "3.7.4"
  }
 },
 "nbformat": 4,
 "nbformat_minor": 2
}
