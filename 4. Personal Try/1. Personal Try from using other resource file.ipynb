{
 "cells": [
  {
   "cell_type": "code",
   "execution_count": 1,
   "metadata": {},
   "outputs": [],
   "source": [
    "import numpy as np\n",
    "import pandas as pd\n",
    "import torch\n",
    "import torch.nn as nn\n",
    "from sklearn.preprocessing import StandardScaler\n",
    "from sklearn.preprocessing import LabelEncoder\n",
    "from sklearn.compose import ColumnTransformer\n",
    "from sklearn.preprocessing import OneHotEncoder\n",
    "from torch.utils.data import Dataset\n",
    "from torch.utils.data import DataLoader"
   ]
  },
  {
   "cell_type": "code",
   "execution_count": 2,
   "metadata": {},
   "outputs": [],
   "source": [
    "data = pd.read_csv(\"./Churn_Modelling.csv\")"
   ]
  },
  {
   "cell_type": "code",
   "execution_count": 3,
   "metadata": {},
   "outputs": [],
   "source": [
    "X = data.iloc[:,3:-1].values\n",
    "y = data.iloc[:,-1].values"
   ]
  },
  {
   "cell_type": "code",
   "execution_count": 4,
   "metadata": {},
   "outputs": [],
   "source": [
    "le = LabelEncoder()"
   ]
  },
  {
   "cell_type": "code",
   "execution_count": 5,
   "metadata": {},
   "outputs": [],
   "source": [
    "X[:,2] = le.fit_transform(X[:, 2])"
   ]
  },
  {
   "cell_type": "code",
   "execution_count": 6,
   "metadata": {},
   "outputs": [],
   "source": [
    "# One Hot Encoding for the Geography\n",
    "ct = ColumnTransformer(transformers=[('encoder', OneHotEncoder(), [1])], remainder='passthrough')\n",
    "X = np.array(ct.fit_transform(X))"
   ]
  },
  {
   "cell_type": "code",
   "execution_count": 7,
   "metadata": {},
   "outputs": [
    {
     "data": {
      "text/plain": [
       "array([[1.0, 0.0, 0.0, ..., 1, 1, 101348.88],\n",
       "       [0.0, 0.0, 1.0, ..., 0, 1, 112542.58],\n",
       "       [1.0, 0.0, 0.0, ..., 1, 0, 113931.57],\n",
       "       ...,\n",
       "       [1.0, 0.0, 0.0, ..., 0, 1, 42085.58],\n",
       "       [0.0, 1.0, 0.0, ..., 1, 0, 92888.52],\n",
       "       [1.0, 0.0, 0.0, ..., 1, 0, 38190.78]], dtype=object)"
      ]
     },
     "execution_count": 7,
     "metadata": {},
     "output_type": "execute_result"
    }
   ],
   "source": [
    "X"
   ]
  },
  {
   "cell_type": "code",
   "execution_count": 8,
   "metadata": {},
   "outputs": [],
   "source": [
    "sc = StandardScaler()"
   ]
  },
  {
   "cell_type": "code",
   "execution_count": 9,
   "metadata": {},
   "outputs": [],
   "source": [
    "from sklearn.model_selection import train_test_split\n",
    "X_train, X_test, y_train, y_test = train_test_split(X, y, test_size = 0.2, random_state = 0)"
   ]
  },
  {
   "cell_type": "code",
   "execution_count": 10,
   "metadata": {},
   "outputs": [],
   "source": [
    "X_train = sc.fit_transform(X_train)"
   ]
  },
  {
   "cell_type": "code",
   "execution_count": 11,
   "metadata": {},
   "outputs": [],
   "source": [
    "X_test = sc.transform(X_test)"
   ]
  },
  {
   "cell_type": "code",
   "execution_count": 12,
   "metadata": {},
   "outputs": [
    {
     "data": {
      "text/plain": [
       "array([[-1.01460667,  1.75486502, -0.57369368, ...,  0.64259497,\n",
       "         0.9687384 ,  1.61085707],\n",
       "       [ 0.98560362, -0.5698444 , -0.57369368, ...,  0.64259497,\n",
       "        -1.03227043,  0.49587037],\n",
       "       [-1.01460667, -0.5698444 ,  1.74309049, ...,  0.64259497,\n",
       "         0.9687384 , -0.42478674],\n",
       "       ...,\n",
       "       [-1.01460667, -0.5698444 ,  1.74309049, ...,  0.64259497,\n",
       "        -1.03227043,  0.71888467],\n",
       "       [-1.01460667,  1.75486502, -0.57369368, ...,  0.64259497,\n",
       "         0.9687384 , -1.54507805],\n",
       "       [-1.01460667,  1.75486502, -0.57369368, ...,  0.64259497,\n",
       "        -1.03227043,  1.61255917]])"
      ]
     },
     "execution_count": 12,
     "metadata": {},
     "output_type": "execute_result"
    }
   ],
   "source": [
    "X_test"
   ]
  },
  {
   "cell_type": "code",
   "execution_count": 13,
   "metadata": {},
   "outputs": [],
   "source": [
    "X_train = torch.tensor(X_train)"
   ]
  },
  {
   "cell_type": "code",
   "execution_count": 14,
   "metadata": {},
   "outputs": [],
   "source": [
    "X_test = torch.tensor(X_test)"
   ]
  },
  {
   "cell_type": "code",
   "execution_count": 15,
   "metadata": {},
   "outputs": [],
   "source": [
    "y_train = torch.tensor(y_train)\n",
    "y_test = torch.tensor(y_test)"
   ]
  },
  {
   "cell_type": "code",
   "execution_count": 16,
   "metadata": {},
   "outputs": [],
   "source": [
    "y_train = torch.unsqueeze(y_train, 1).float()\n",
    "y_test = torch.unsqueeze(y_test, 1).float()"
   ]
  },
  {
   "cell_type": "code",
   "execution_count": 17,
   "metadata": {},
   "outputs": [
    {
     "name": "stdout",
     "output_type": "stream",
     "text": [
      "X Training Model Shape : torch.Size([8000, 12])\n",
      "X Training Model Shape : torch.Size([2000, 12])\n"
     ]
    }
   ],
   "source": [
    "print(\"X Training Model Shape :\" ,X_train.shape)\n",
    "print(\"X Training Model Shape :\" ,X_test.shape)"
   ]
  },
  {
   "cell_type": "code",
   "execution_count": 18,
   "metadata": {},
   "outputs": [
    {
     "name": "stdout",
     "output_type": "stream",
     "text": [
      "y Training Model Shape : torch.Size([8000, 1])\n",
      "y Training Model Shape : torch.Size([2000, 1])\n"
     ]
    }
   ],
   "source": [
    "print(\"y Training Model Shape :\" ,y_train.shape)\n",
    "print(\"y Training Model Shape :\" ,y_test.shape)"
   ]
  },
  {
   "cell_type": "code",
   "execution_count": 58,
   "metadata": {},
   "outputs": [],
   "source": [
    "class Model(nn.Module):\n",
    "    def __init__(self, no_input, no_hidden1, no_hidden2, no_hidden3, no_output):\n",
    "        super(Model, self).__init__()\n",
    "        self.fc1 = nn.Linear(no_input, no_hidden1)\n",
    "        self.fc2 = nn.Linear(no_hidden1,no_hidden2)\n",
    "        self.fc3 = nn.Linear(no_hidden2,no_hidden3)\n",
    "        self.fc4 = nn.Linear(no_hidden3,no_output)\n",
    "        # Defining Activation Function\n",
    "        self.sigmoid = nn.Sigmoid()\n",
    "        self.tanh = nn.Tanh()\n",
    "        \n",
    "    def forward(self, x):\n",
    "        out = self.fc1(x)\n",
    "        out = self.tanh(out)\n",
    "        out = self.fc2(out)\n",
    "        out = self.tanh(out)\n",
    "        out = self.fc3(out)\n",
    "        out = self.tanh(out)\n",
    "        out = self.fc4(out)\n",
    "        out = self.sigmoid(out)\n",
    "        return out"
   ]
  },
  {
   "cell_type": "code",
   "execution_count": 59,
   "metadata": {},
   "outputs": [],
   "source": [
    "net = Model(X_train.shape[1], 50,50,50, 1)"
   ]
  },
  {
   "cell_type": "code",
   "execution_count": 60,
   "metadata": {},
   "outputs": [],
   "source": [
    "# Loss Function\n",
    "bce = torch.nn.BCELoss(reduction=\"mean\")"
   ]
  },
  {
   "cell_type": "code",
   "execution_count": 61,
   "metadata": {},
   "outputs": [],
   "source": [
    "# Optimizer (We will use SGD)\n",
    "optimizer = torch.optim.Adam(net.parameters())"
   ]
  },
  {
   "cell_type": "code",
   "execution_count": 62,
   "metadata": {},
   "outputs": [],
   "source": [
    "class Dataset(Dataset):\n",
    "    \n",
    "    def __init__(self, x, y):\n",
    "        self.x = x\n",
    "        self.y = y\n",
    "        \n",
    "    def __getitem__(self, index):\n",
    "        return self.x[index], self.y[index]\n",
    "    \n",
    "    def __len__(self):\n",
    "        return len(self.x)\n",
    "\n",
    "dataset = Dataset(X_train, y_train)\n",
    "train_loader = DataLoader(dataset=dataset,\n",
    "          batch_size=100,\n",
    "          shuffle=True)"
   ]
  },
  {
   "cell_type": "code",
   "execution_count": 63,
   "metadata": {},
   "outputs": [
    {
     "name": "stdout",
     "output_type": "stream",
     "text": [
      "Epoch 1/100, Loss : 0.320, Accuracy: 0.830\n",
      "Epoch 2/100, Loss : 0.330, Accuracy: 0.880\n",
      "Epoch 3/100, Loss : 0.387, Accuracy: 0.820\n",
      "Epoch 4/100, Loss : 0.392, Accuracy: 0.840\n",
      "Epoch 5/100, Loss : 0.404, Accuracy: 0.820\n",
      "Epoch 6/100, Loss : 0.294, Accuracy: 0.890\n",
      "Epoch 7/100, Loss : 0.275, Accuracy: 0.890\n",
      "Epoch 8/100, Loss : 0.341, Accuracy: 0.910\n",
      "Epoch 9/100, Loss : 0.242, Accuracy: 0.920\n",
      "Epoch 10/100, Loss : 0.466, Accuracy: 0.820\n",
      "Epoch 11/100, Loss : 0.346, Accuracy: 0.860\n",
      "Epoch 12/100, Loss : 0.344, Accuracy: 0.840\n",
      "Epoch 13/100, Loss : 0.316, Accuracy: 0.910\n",
      "Epoch 14/100, Loss : 0.311, Accuracy: 0.890\n",
      "Epoch 15/100, Loss : 0.379, Accuracy: 0.870\n",
      "Epoch 16/100, Loss : 0.427, Accuracy: 0.840\n",
      "Epoch 17/100, Loss : 0.365, Accuracy: 0.790\n",
      "Epoch 18/100, Loss : 0.340, Accuracy: 0.890\n",
      "Epoch 19/100, Loss : 0.308, Accuracy: 0.860\n",
      "Epoch 20/100, Loss : 0.292, Accuracy: 0.860\n",
      "Epoch 21/100, Loss : 0.274, Accuracy: 0.880\n",
      "Epoch 22/100, Loss : 0.268, Accuracy: 0.870\n",
      "Epoch 23/100, Loss : 0.209, Accuracy: 0.930\n",
      "Epoch 24/100, Loss : 0.343, Accuracy: 0.840\n",
      "Epoch 25/100, Loss : 0.313, Accuracy: 0.840\n",
      "Epoch 26/100, Loss : 0.351, Accuracy: 0.830\n",
      "Epoch 27/100, Loss : 0.345, Accuracy: 0.850\n",
      "Epoch 28/100, Loss : 0.367, Accuracy: 0.860\n",
      "Epoch 29/100, Loss : 0.244, Accuracy: 0.910\n",
      "Epoch 30/100, Loss : 0.403, Accuracy: 0.830\n",
      "Epoch 31/100, Loss : 0.228, Accuracy: 0.870\n",
      "Epoch 32/100, Loss : 0.353, Accuracy: 0.870\n",
      "Epoch 33/100, Loss : 0.316, Accuracy: 0.870\n",
      "Epoch 34/100, Loss : 0.303, Accuracy: 0.870\n",
      "Epoch 35/100, Loss : 0.237, Accuracy: 0.910\n",
      "Epoch 36/100, Loss : 0.302, Accuracy: 0.890\n",
      "Epoch 37/100, Loss : 0.323, Accuracy: 0.840\n",
      "Epoch 38/100, Loss : 0.330, Accuracy: 0.860\n",
      "Epoch 39/100, Loss : 0.308, Accuracy: 0.860\n",
      "Epoch 40/100, Loss : 0.252, Accuracy: 0.900\n",
      "Epoch 41/100, Loss : 0.214, Accuracy: 0.910\n",
      "Epoch 42/100, Loss : 0.334, Accuracy: 0.870\n",
      "Epoch 43/100, Loss : 0.301, Accuracy: 0.870\n",
      "Epoch 44/100, Loss : 0.293, Accuracy: 0.880\n",
      "Epoch 45/100, Loss : 0.216, Accuracy: 0.940\n",
      "Epoch 46/100, Loss : 0.277, Accuracy: 0.890\n",
      "Epoch 47/100, Loss : 0.254, Accuracy: 0.920\n",
      "Epoch 48/100, Loss : 0.318, Accuracy: 0.870\n",
      "Epoch 49/100, Loss : 0.453, Accuracy: 0.780\n",
      "Epoch 50/100, Loss : 0.305, Accuracy: 0.890\n",
      "Epoch 51/100, Loss : 0.343, Accuracy: 0.840\n",
      "Epoch 52/100, Loss : 0.234, Accuracy: 0.910\n",
      "Epoch 53/100, Loss : 0.335, Accuracy: 0.870\n",
      "Epoch 54/100, Loss : 0.358, Accuracy: 0.860\n",
      "Epoch 55/100, Loss : 0.249, Accuracy: 0.890\n",
      "Epoch 56/100, Loss : 0.335, Accuracy: 0.860\n",
      "Epoch 57/100, Loss : 0.268, Accuracy: 0.880\n",
      "Epoch 58/100, Loss : 0.279, Accuracy: 0.900\n",
      "Epoch 59/100, Loss : 0.332, Accuracy: 0.890\n",
      "Epoch 60/100, Loss : 0.300, Accuracy: 0.890\n",
      "Epoch 61/100, Loss : 0.294, Accuracy: 0.910\n",
      "Epoch 62/100, Loss : 0.313, Accuracy: 0.870\n",
      "Epoch 63/100, Loss : 0.283, Accuracy: 0.900\n",
      "Epoch 64/100, Loss : 0.323, Accuracy: 0.860\n",
      "Epoch 65/100, Loss : 0.351, Accuracy: 0.860\n",
      "Epoch 66/100, Loss : 0.340, Accuracy: 0.860\n",
      "Epoch 67/100, Loss : 0.271, Accuracy: 0.900\n",
      "Epoch 68/100, Loss : 0.334, Accuracy: 0.880\n",
      "Epoch 69/100, Loss : 0.205, Accuracy: 0.920\n",
      "Epoch 70/100, Loss : 0.267, Accuracy: 0.880\n",
      "Epoch 71/100, Loss : 0.204, Accuracy: 0.950\n",
      "Epoch 72/100, Loss : 0.331, Accuracy: 0.870\n",
      "Epoch 73/100, Loss : 0.334, Accuracy: 0.840\n",
      "Epoch 74/100, Loss : 0.297, Accuracy: 0.850\n",
      "Epoch 75/100, Loss : 0.418, Accuracy: 0.820\n",
      "Epoch 76/100, Loss : 0.437, Accuracy: 0.810\n",
      "Epoch 77/100, Loss : 0.194, Accuracy: 0.940\n",
      "Epoch 78/100, Loss : 0.386, Accuracy: 0.810\n",
      "Epoch 79/100, Loss : 0.259, Accuracy: 0.900\n",
      "Epoch 80/100, Loss : 0.213, Accuracy: 0.910\n",
      "Epoch 81/100, Loss : 0.403, Accuracy: 0.820\n",
      "Epoch 82/100, Loss : 0.219, Accuracy: 0.920\n",
      "Epoch 83/100, Loss : 0.255, Accuracy: 0.870\n",
      "Epoch 84/100, Loss : 0.241, Accuracy: 0.920\n",
      "Epoch 85/100, Loss : 0.278, Accuracy: 0.900\n",
      "Epoch 86/100, Loss : 0.224, Accuracy: 0.930\n",
      "Epoch 87/100, Loss : 0.246, Accuracy: 0.910\n",
      "Epoch 88/100, Loss : 0.316, Accuracy: 0.850\n",
      "Epoch 89/100, Loss : 0.438, Accuracy: 0.830\n",
      "Epoch 90/100, Loss : 0.180, Accuracy: 0.920\n",
      "Epoch 91/100, Loss : 0.283, Accuracy: 0.900\n",
      "Epoch 92/100, Loss : 0.192, Accuracy: 0.920\n",
      "Epoch 93/100, Loss : 0.234, Accuracy: 0.910\n",
      "Epoch 94/100, Loss : 0.292, Accuracy: 0.880\n",
      "Epoch 95/100, Loss : 0.247, Accuracy: 0.890\n",
      "Epoch 96/100, Loss : 0.244, Accuracy: 0.880\n",
      "Epoch 97/100, Loss : 0.265, Accuracy: 0.900\n",
      "Epoch 98/100, Loss : 0.222, Accuracy: 0.930\n",
      "Epoch 99/100, Loss : 0.254, Accuracy: 0.900\n",
      "Epoch 100/100, Loss : 0.270, Accuracy: 0.860\n"
     ]
    }
   ],
   "source": [
    "# Training The Data\n",
    "epochs = 100\n",
    "for epoch in range(epochs):\n",
    "    for inputs,labels in train_loader:\n",
    "        inputs = inputs.float()\n",
    "        labels = labels.float()\n",
    "        outputs = net(inputs)\n",
    "        loss = bce(outputs, labels)\n",
    "        optimizer.zero_grad()\n",
    "        loss.backward()\n",
    "        optimizer.step()\n",
    "    output = (outputs > 0.5).float() # returns [1.,0.,0.,1.,...]\n",
    "    accuracy = (output == labels).float().mean() # Check if they are equal and returns 1 if equal, 0 not equal\n",
    "    # Another way of calculating is \n",
    "    #   (output == labels).sum() / output.shape[0]\n",
    "\n",
    "    # Print Statistics\n",
    "    print(\"Epoch {}/{}, Loss : {:.3f}, Accuracy: {:.3f}\".format(epoch+1, epochs, loss, accuracy))"
   ]
  },
  {
   "cell_type": "code",
   "execution_count": 64,
   "metadata": {},
   "outputs": [
    {
     "name": "stdout",
     "output_type": "stream",
     "text": [
      "Accuracy : 0.8505\n"
     ]
    }
   ],
   "source": [
    "dataset2 = Dataset(X_test, y_test)\n",
    "corr = 0\n",
    "for i, inputs in enumerate(X_test):\n",
    "    output = net(inputs.float())\n",
    "    if (output > .5 and y_test[i] == 1) or (output < .5 and y_test[i] == 0):\n",
    "        corr += 1\n",
    "\n",
    "print(\"Accuracy : {}\".format(corr/y_test.shape[0]))"
   ]
  },
  {
   "cell_type": "code",
   "execution_count": null,
   "metadata": {},
   "outputs": [],
   "source": []
  }
 ],
 "metadata": {
  "kernelspec": {
   "display_name": "Python 3",
   "language": "python",
   "name": "python3"
  },
  "language_info": {
   "codemirror_mode": {
    "name": "ipython",
    "version": 3
   },
   "file_extension": ".py",
   "mimetype": "text/x-python",
   "name": "python",
   "nbconvert_exporter": "python",
   "pygments_lexer": "ipython3",
   "version": "3.6.8"
  }
 },
 "nbformat": 4,
 "nbformat_minor": 2
}
