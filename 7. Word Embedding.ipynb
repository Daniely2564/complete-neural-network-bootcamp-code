{
 "cells": [
  {
   "cell_type": "markdown",
   "metadata": {},
   "source": [
    "# Word Embeddings"
   ]
  },
  {
   "cell_type": "code",
   "execution_count": 1,
   "metadata": {},
   "outputs": [],
   "source": [
    "import torch\n",
    "import torch.nn as nn\n",
    "import torch.nn.functional as F\n",
    "import torch.optim as optim"
   ]
  },
  {
   "cell_type": "markdown",
   "metadata": {},
   "source": [
    "The indices of the words represent the values in the look up table"
   ]
  },
  {
   "cell_type": "code",
   "execution_count": 2,
   "metadata": {},
   "outputs": [],
   "source": [
    "word_to_idx = {\"I\":0, \"love\":1, \"eating\":2, \"and\":3,\"sleeping\":4}"
   ]
  },
  {
   "cell_type": "markdown",
   "metadata": {},
   "source": [
    "nn.Embeddings(words_in_vocab, embedding size)"
   ]
  },
  {
   "cell_type": "code",
   "execution_count": 3,
   "metadata": {},
   "outputs": [],
   "source": [
    "embeddings = nn.Embedding(5, 7) "
   ]
  },
  {
   "cell_type": "code",
   "execution_count": 4,
   "metadata": {},
   "outputs": [
    {
     "name": "stdout",
     "output_type": "stream",
     "text": [
      "tensor([1])\n"
     ]
    }
   ],
   "source": [
    "word_index = torch.tensor([word_to_idx[\"love\"]])\n",
    "print(word_index)"
   ]
  },
  {
   "cell_type": "markdown",
   "metadata": {},
   "source": [
    "Running Embedding"
   ]
  },
  {
   "cell_type": "code",
   "execution_count": 5,
   "metadata": {},
   "outputs": [],
   "source": [
    "love = embeddings(word_index)"
   ]
  },
  {
   "cell_type": "code",
   "execution_count": 6,
   "metadata": {},
   "outputs": [
    {
     "name": "stdout",
     "output_type": "stream",
     "text": [
      "tensor([[ 0.7536, -1.7540, -1.1920,  0.4188, -0.6679, -0.2540, -1.0627]],\n",
      "       grad_fn=<EmbeddingBackward>)\n",
      "torch.Size([1, 7])\n"
     ]
    }
   ],
   "source": [
    "print(love)\n",
    "print(love.shape)"
   ]
  },
  {
   "cell_type": "code",
   "execution_count": 8,
   "metadata": {},
   "outputs": [
    {
     "name": "stdout",
     "output_type": "stream",
     "text": [
      "tensor([[-1.0435,  1.2275,  0.1159,  0.7221, -0.9739, -1.5204,  1.3203],\n",
      "        [ 0.7536, -1.7540, -1.1920,  0.4188, -0.6679, -0.2540, -1.0627],\n",
      "        [-0.1224, -0.6746,  0.5554,  1.1343, -0.2968,  1.5896,  0.6865],\n",
      "        [ 1.3464,  1.6650,  0.5429,  0.1088, -1.0269,  0.0239, -0.2477],\n",
      "        [-1.2609, -1.0386,  0.8509, -0.1361,  0.0403, -0.6525, -0.7994]],\n",
      "       grad_fn=<EmbeddingBackward>)\n",
      "torch.Size([5, 7])\n"
     ]
    }
   ],
   "source": [
    "all_ind = torch.tensor([w for w in range(5)], dtype=torch.long)\n",
    "all_words = embeddings(all_ind)\n",
    "print(all_words)\n",
    "print(all_words.shape)"
   ]
  },
  {
   "cell_type": "markdown",
   "metadata": {},
   "source": [
    "## Exercise : N-Gram Skip Model"
   ]
  },
  {
   "cell_type": "code",
   "execution_count": null,
   "metadata": {},
   "outputs": [],
   "source": []
  }
 ],
 "metadata": {
  "kernelspec": {
   "display_name": "Python 3",
   "language": "python",
   "name": "python3"
  },
  "language_info": {
   "codemirror_mode": {
    "name": "ipython",
    "version": 3
   },
   "file_extension": ".py",
   "mimetype": "text/x-python",
   "name": "python",
   "nbconvert_exporter": "python",
   "pygments_lexer": "ipython3",
   "version": "3.7.4"
  }
 },
 "nbformat": 4,
 "nbformat_minor": 2
}
