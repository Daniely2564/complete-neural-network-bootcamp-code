{
 "cells": [
  {
   "cell_type": "code",
   "execution_count": 1,
   "metadata": {},
   "outputs": [],
   "source": [
    "import torch\n",
    "import torch.nn as nn\n",
    "import torchvision.transforms as transforms\n",
    "import torchvision.datasets as datasets"
   ]
  },
  {
   "cell_type": "markdown",
   "metadata": {},
   "source": [
    "<img src=\"./img/CNN structure.png\"/>"
   ]
  },
  {
   "cell_type": "code",
   "execution_count": 3,
   "metadata": {},
   "outputs": [],
   "source": [
    "# Specify the parameters for the data normalization\n",
    "mean_gray = 0.1307 # The mean of MNIST data points\n",
    "stddev_gray = 0.3081 # The standard deviation of MNIST data points\n",
    "# We need to know this in order to apply the data normalization"
   ]
  },
  {
   "cell_type": "markdown",
   "metadata": {},
   "source": [
    "Transforms (In this case, data normalization)\n",
    "1. Convert the images into tensors\n",
    "2. Normalization"
   ]
  },
  {
   "cell_type": "code",
   "execution_count": 4,
   "metadata": {},
   "outputs": [],
   "source": [
    "# Input[channel] = (input[channel] - mean[channel]) / std[channel]\n",
    "# There is only one channel for this type of image\n",
    "tf = transforms.Compose([transforms.ToTensor(),\n",
    "                        transforms.Normalize((mean_gray,), (stddev_gray))])\n",
    "\n",
    "train_dataset = datasets.MNIST(root='./datasets', train=True, transform=tf, download=True)\n",
    "test_dataset = datasets.MNIST(root='./datasets', train=False, transform=tf)"
   ]
  },
  {
   "cell_type": "code",
   "execution_count": null,
   "metadata": {},
   "outputs": [],
   "source": []
  }
 ],
 "metadata": {
  "kernelspec": {
   "display_name": "Python 3",
   "language": "python",
   "name": "python3"
  },
  "language_info": {
   "codemirror_mode": {
    "name": "ipython",
    "version": 3
   },
   "file_extension": ".py",
   "mimetype": "text/x-python",
   "name": "python",
   "nbconvert_exporter": "python",
   "pygments_lexer": "ipython3",
   "version": "3.7.4"
  }
 },
 "nbformat": 4,
 "nbformat_minor": 2
}
