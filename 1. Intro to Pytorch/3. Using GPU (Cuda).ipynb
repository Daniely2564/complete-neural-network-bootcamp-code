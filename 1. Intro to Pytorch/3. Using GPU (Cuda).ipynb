{
 "cells": [
  {
   "cell_type": "code",
   "execution_count": 1,
   "metadata": {},
   "outputs": [],
   "source": [
    "import torch"
   ]
  },
  {
   "cell_type": "code",
   "execution_count": 2,
   "metadata": {},
   "outputs": [],
   "source": [
    "r2 = torch.randn(2,3,5)"
   ]
  },
  {
   "cell_type": "code",
   "execution_count": 3,
   "metadata": {},
   "outputs": [
    {
     "data": {
      "text/plain": [
       "tensor([[[ 0.0276, -0.6844,  1.4528,  0.4431, -1.3727],\n",
       "         [-2.0910, -1.0522, -0.5556,  0.2651,  0.4550],\n",
       "         [-1.1640, -0.4915, -0.3985,  2.1100, -0.2827]],\n",
       "\n",
       "        [[ 0.6491, -0.5474,  1.1504,  0.7210,  2.9296],\n",
       "         [-1.3803, -0.9097, -1.3849,  0.5858,  0.1963],\n",
       "         [ 1.9815, -0.1258,  0.6696,  1.7670,  2.2560]]])"
      ]
     },
     "execution_count": 3,
     "metadata": {},
     "output_type": "execute_result"
    }
   ],
   "source": [
    "r2"
   ]
  },
  {
   "cell_type": "code",
   "execution_count": 4,
   "metadata": {},
   "outputs": [
    {
     "name": "stdout",
     "output_type": "stream",
     "text": [
      "tensor([[[ 0.0276, -0.6844,  1.4528,  0.4431, -1.3727],\n",
      "         [-2.0910, -1.0522, -0.5556,  0.2651,  0.4550],\n",
      "         [-1.1640, -0.4915, -0.3985,  2.1100, -0.2827]],\n",
      "\n",
      "        [[ 0.6491, -0.5474,  1.1504,  0.7210,  2.9296],\n",
      "         [-1.3803, -0.9097, -1.3849,  0.5858,  0.1963],\n",
      "         [ 1.9815, -0.1258,  0.6696,  1.7670,  2.2560]]], device='cuda:0')\n"
     ]
    }
   ],
   "source": [
    "r2 = r2.cuda()\n",
    "print(r2)"
   ]
  },
  {
   "cell_type": "markdown",
   "metadata": {},
   "source": [
    "Provide Easy switching between CPU and GPU"
   ]
  },
  {
   "cell_type": "code",
   "execution_count": 6,
   "metadata": {},
   "outputs": [
    {
     "name": "stdout",
     "output_type": "stream",
     "text": [
      "True\n",
      "tensor([[[ 0.7052,  1.2945, -1.0515, -0.9299,  0.8089],\n",
      "         [ 1.1147, -0.9104,  0.0128,  3.0957,  1.9226],\n",
      "         [-0.6123,  0.2893,  0.5444, -0.4347, -0.3027]],\n",
      "\n",
      "        [[ 0.7356, -0.1334,  0.6633, -0.6246, -0.9619],\n",
      "         [ 1.0819, -1.1888, -0.5068, -0.4270, -0.8519],\n",
      "         [ 0.3388, -1.5548,  0.8749,  1.3335, -0.0273]]], device='cuda:0')\n"
     ]
    }
   ],
   "source": [
    "r1 = torch.randn(2,3,5)\n",
    "USING_GPU = torch.cuda.is_available()\n",
    "print(USING_GPU)\n",
    "if USING_GPU:\n",
    "    r1 = r1.cuda()\n",
    "    print(r1)"
   ]
  },
  {
   "cell_type": "code",
   "execution_count": 7,
   "metadata": {},
   "outputs": [
    {
     "name": "stdout",
     "output_type": "stream",
     "text": [
      "[2, 3, 4, 1]\n",
      "tensor([2, 3, 4, 1]) torch.int64\n"
     ]
    }
   ],
   "source": [
    "a = [2, 3, 4, 1]\n",
    "print(a)\n",
    "to_list = torch.tensor(a)\n",
    "print(to_list, to_list.dtype)"
   ]
  },
  {
   "cell_type": "markdown",
   "metadata": {},
   "source": [
    "## Tensor Concatenation"
   ]
  },
  {
   "cell_type": "code",
   "execution_count": 8,
   "metadata": {},
   "outputs": [],
   "source": [
    "t1 = torch.randn(2,5)\n",
    "t2 = torch.randn(3,5)"
   ]
  },
  {
   "cell_type": "code",
   "execution_count": 9,
   "metadata": {},
   "outputs": [
    {
     "name": "stdout",
     "output_type": "stream",
     "text": [
      "tensor([[ 0.1486, -0.7351, -0.3046,  1.8873,  1.4983],\n",
      "        [-1.0991, -0.3426,  0.0379, -1.1144,  0.9003]])\n",
      "tensor([[ 0.3104,  0.9997, -3.0739,  0.2721,  0.2182],\n",
      "        [ 1.8019, -0.1995,  0.5551, -0.0275,  1.7045],\n",
      "        [ 0.0774,  0.2583, -0.3707,  0.1505,  0.3311]])\n"
     ]
    }
   ],
   "source": [
    "print(t1)\n",
    "print(t2)"
   ]
  },
  {
   "cell_type": "markdown",
   "metadata": {},
   "source": [
    "Concatenate along the 0 dimension (concatenate rows)"
   ]
  },
  {
   "cell_type": "code",
   "execution_count": 13,
   "metadata": {},
   "outputs": [],
   "source": [
    "con_1 = torch.cat([t1, t2])"
   ]
  },
  {
   "cell_type": "code",
   "execution_count": 14,
   "metadata": {},
   "outputs": [
    {
     "data": {
      "text/plain": [
       "tensor([[ 0.1486, -0.7351, -0.3046,  1.8873,  1.4983],\n",
       "        [-1.0991, -0.3426,  0.0379, -1.1144,  0.9003],\n",
       "        [ 0.3104,  0.9997, -3.0739,  0.2721,  0.2182],\n",
       "        [ 1.8019, -0.1995,  0.5551, -0.0275,  1.7045],\n",
       "        [ 0.0774,  0.2583, -0.3707,  0.1505,  0.3311]])"
      ]
     },
     "execution_count": 14,
     "metadata": {},
     "output_type": "execute_result"
    }
   ],
   "source": [
    "con_1"
   ]
  },
  {
   "cell_type": "markdown",
   "metadata": {},
   "source": [
    "Concatenate along the 1 dimension (concatenate columns)"
   ]
  },
  {
   "cell_type": "code",
   "execution_count": 16,
   "metadata": {},
   "outputs": [],
   "source": [
    "t1 = torch.randn(2,3)\n",
    "t2 = torch.randn(2,5)"
   ]
  },
  {
   "cell_type": "code",
   "execution_count": 17,
   "metadata": {},
   "outputs": [
    {
     "name": "stdout",
     "output_type": "stream",
     "text": [
      "tensor([[-1.1881,  0.7885,  0.2702],\n",
      "        [ 1.1890,  0.7686,  0.1948]])\n",
      "tensor([[ 0.6889,  1.9397,  1.0103,  0.8162, -0.9247],\n",
      "        [ 0.5049, -0.3471, -0.2070, -1.8144, -0.7320]])\n"
     ]
    }
   ],
   "source": [
    "print(t1)\n",
    "print(t2)"
   ]
  },
  {
   "cell_type": "code",
   "execution_count": 18,
   "metadata": {},
   "outputs": [],
   "source": [
    "con = torch.cat([t1,t2],1)"
   ]
  },
  {
   "cell_type": "code",
   "execution_count": 19,
   "metadata": {},
   "outputs": [
    {
     "data": {
      "text/plain": [
       "tensor([[-1.1881,  0.7885,  0.2702,  0.6889,  1.9397,  1.0103,  0.8162, -0.9247],\n",
       "        [ 1.1890,  0.7686,  0.1948,  0.5049, -0.3471, -0.2070, -1.8144, -0.7320]])"
      ]
     },
     "execution_count": 19,
     "metadata": {},
     "output_type": "execute_result"
    }
   ],
   "source": [
    "con"
   ]
  },
  {
   "cell_type": "markdown",
   "metadata": {},
   "source": [
    "## Adding Dimensions to Tensors"
   ]
  },
  {
   "cell_type": "code",
   "execution_count": 24,
   "metadata": {},
   "outputs": [
    {
     "name": "stdout",
     "output_type": "stream",
     "text": [
      "tensor([1, 2, 3, 4])\n",
      "tensor([[1, 2, 3, 4]])\n",
      "torch.Size([1, 4])\n"
     ]
    }
   ],
   "source": [
    "t1 = torch.tensor([1,2,3,4])\n",
    "t2 = torch.unsqueeze(t1, 0)\n",
    "print(t1)\n",
    "print(t2)\n",
    "print(t2.shape)"
   ]
  },
  {
   "cell_type": "code",
   "execution_count": 25,
   "metadata": {},
   "outputs": [],
   "source": [
    "t2 = torch.unsqueeze(t1, 1)"
   ]
  },
  {
   "cell_type": "code",
   "execution_count": 26,
   "metadata": {},
   "outputs": [
    {
     "name": "stdout",
     "output_type": "stream",
     "text": [
      "tensor([[1],\n",
      "        [2],\n",
      "        [3],\n",
      "        [4]])\n",
      "torch.Size([4, 1])\n"
     ]
    }
   ],
   "source": [
    "print(t2)\n",
    "print(t2.shape)"
   ]
  },
  {
   "cell_type": "code",
   "execution_count": 28,
   "metadata": {},
   "outputs": [
    {
     "name": "stdout",
     "output_type": "stream",
     "text": [
      "tensor([[[0.6338, 0.8658, 0.6045, 0.2409],\n",
      "         [0.0861, 0.3981, 0.7959, 0.1679],\n",
      "         [0.5454, 0.5808, 0.2751, 0.1302]],\n",
      "\n",
      "        [[0.5856, 0.0091, 0.6260, 0.5112],\n",
      "         [0.8734, 0.3971, 0.8346, 0.2444],\n",
      "         [0.8794, 0.3744, 0.7777, 0.5984]]])\n"
     ]
    }
   ],
   "source": [
    "t1 = torch.rand(2,3,4)\n",
    "print(t1)"
   ]
  },
  {
   "cell_type": "code",
   "execution_count": 29,
   "metadata": {},
   "outputs": [],
   "source": [
    "t2 = torch.unsqueeze(t1,2)"
   ]
  },
  {
   "cell_type": "code",
   "execution_count": 30,
   "metadata": {},
   "outputs": [
    {
     "data": {
      "text/plain": [
       "tensor([[[[0.6338, 0.8658, 0.6045, 0.2409]],\n",
       "\n",
       "         [[0.0861, 0.3981, 0.7959, 0.1679]],\n",
       "\n",
       "         [[0.5454, 0.5808, 0.2751, 0.1302]]],\n",
       "\n",
       "\n",
       "        [[[0.5856, 0.0091, 0.6260, 0.5112]],\n",
       "\n",
       "         [[0.8734, 0.3971, 0.8346, 0.2444]],\n",
       "\n",
       "         [[0.8794, 0.3744, 0.7777, 0.5984]]]])"
      ]
     },
     "execution_count": 30,
     "metadata": {},
     "output_type": "execute_result"
    }
   ],
   "source": [
    "t2"
   ]
  },
  {
   "cell_type": "code",
   "execution_count": 31,
   "metadata": {},
   "outputs": [
    {
     "data": {
      "text/plain": [
       "torch.Size([2, 3, 1, 4])"
      ]
     },
     "execution_count": 31,
     "metadata": {},
     "output_type": "execute_result"
    }
   ],
   "source": [
    "t2.shape"
   ]
  },
  {
   "cell_type": "code",
   "execution_count": null,
   "metadata": {},
   "outputs": [],
   "source": []
  }
 ],
 "metadata": {
  "kernelspec": {
   "display_name": "Python 3",
   "language": "python",
   "name": "python3"
  },
  "language_info": {
   "codemirror_mode": {
    "name": "ipython",
    "version": 3
   },
   "file_extension": ".py",
   "mimetype": "text/x-python",
   "name": "python",
   "nbconvert_exporter": "python",
   "pygments_lexer": "ipython3",
   "version": "3.7.4"
  }
 },
 "nbformat": 4,
 "nbformat_minor": 2
}
